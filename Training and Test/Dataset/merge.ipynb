{
 "cells": [
  {
   "cell_type": "code",
   "execution_count": 1,
   "id": "375ff01e",
   "metadata": {},
   "outputs": [],
   "source": [
    "import pandas as pd\n",
    "from pathlib import Path"
   ]
  },
  {
   "cell_type": "code",
   "execution_count": 2,
   "id": "eaaba3bd",
   "metadata": {},
   "outputs": [
    {
     "name": "stdout",
     "output_type": "stream",
     "text": [
      "Merged 1225 + 2081 -> 3188 rows. Saved to: C:\\Users\\farre\\Documents\\Kuliah\\Magang era\\Project 1\\Training and Test\\Dataset\\intent_merged.csv\n"
     ]
    }
   ],
   "source": [
    "import pandas as pd\n",
    "from pathlib import Path\n",
    "\n",
    "# GitHub Copilot\n",
    "\n",
    "file1 = Path(r\"C:\\Users\\farre\\Documents\\Kuliah\\Magang era\\Project 1\\Training and Test\\Dataset\\intent_hamil.csv\")\n",
    "file2 = Path(r\"C:\\Users\\farre\\Documents\\Kuliah\\Magang era\\Project 1\\Training and Test\\Dataset\\inten_umum.csv\")\n",
    "out_file = file1.parent / \"intent_merged.csv\"\n",
    "\n",
    "try:\n",
    "    df1 = pd.read_csv(file1)\n",
    "    df2 = pd.read_csv(file2)\n",
    "except Exception as e:\n",
    "    raise SystemExit(f\"Error reading files: {e}\")\n",
    "\n",
    "merged = pd.concat([df1, df2], ignore_index=True)\n",
    "\n",
    "# Optional: remove exact duplicate rows\n",
    "merged = merged.drop_duplicates().reset_index(drop=True)\n",
    "\n",
    "merged.to_csv(out_file, index=False)\n",
    "print(f\"Merged {len(df1)} + {len(df2)} -> {len(merged)} rows. Saved to: {out_file}\")"
   ]
  },
  {
   "cell_type": "code",
   "execution_count": 4,
   "id": "6118f372",
   "metadata": {},
   "outputs": [
    {
     "name": "stdout",
     "output_type": "stream",
     "text": [
      "Found 17 unique intents:\n",
      "\n",
      "anc_tracker\n",
      "cek_data_customer\n",
      "cek_golongan_darah\n",
      "detail_dokter\n",
      "detail_preskripsi_obat\n",
      "hasil_lab_detail\n",
      "hasil_lab_ringkasan\n",
      "imunisasi_tracker\n",
      "jadwal_dokter\n",
      "panduan_persiapan_persalinan\n",
      "reminder_kontrol_kehamilan\n",
      "riwayat_berobat\n",
      "riwayat_diagnosis\n",
      "riwayat_kondisi_fisik\n",
      "riwayat_persalinan\n",
      "riwayat_preskripsi_obat\n",
      "riwayat_suplemen_kehamilan\n",
      "\n",
      "Intent counts:\n",
      "intent\n",
      "reminder_kontrol_kehamilan      257\n",
      "riwayat_diagnosis               248\n",
      "hasil_lab_ringkasan             244\n",
      "riwayat_kondisi_fisik           205\n",
      "detail_dokter                   204\n",
      "imunisasi_tracker               203\n",
      "riwayat_suplemen_kehamilan      203\n",
      "riwayat_preskripsi_obat         203\n",
      "anc_tracker                     201\n",
      "jadwal_dokter                   201\n",
      "riwayat_berobat                 199\n",
      "riwayat_persalinan              199\n",
      "hasil_lab_detail                172\n",
      "panduan_persiapan_persalinan    151\n",
      "detail_preskripsi_obat          102\n",
      "cek_golongan_darah              100\n",
      "cek_data_customer                96\n",
      "Name: count, dtype: int64\n"
     ]
    }
   ],
   "source": [
    "merged_file = Path(r\"C:\\Users\\farre\\Documents\\Kuliah\\Magang era\\Project 1\\Training and Test\\Dataset\\intent_merged.csv\")\n",
    "\n",
    "try:\n",
    "    df_intent = pd.read_csv(merged_file, usecols=['intent'])\n",
    "except Exception as e:\n",
    "    raise SystemExit(f\"Error reading file {merged_file}: {e}\")\n",
    "\n",
    "unique_intents = df_intent['intent'].dropna().unique()\n",
    "print(f\"Found {len(unique_intents)} unique intents:\\n\")\n",
    "for intent in sorted(map(str, unique_intents)):\n",
    "    print(intent)\n",
    "\n",
    "print(\"\\nIntent counts:\")\n",
    "print(df_intent['intent'].value_counts())"
   ]
  },
  {
   "cell_type": "code",
   "execution_count": 1,
   "id": "66bd9a44",
   "metadata": {},
   "outputs": [
    {
     "name": "stdout",
     "output_type": "stream",
     "text": [
      "Merged 1225 + 2081 -> 3182 rows. Saved to: C:\\Users\\farre\\Documents\\Kuliah\\Magang era\\Project 1\\Training and Test\\Dataset\\intent_merged.csv\n"
     ]
    }
   ],
   "source": [
    "import pandas as pd\n",
    "from pathlib import Path\n",
    "\n",
    "# GitHub Copilot\n",
    "\n",
    "file1 = Path(r\"C:\\Users\\farre\\Documents\\Kuliah\\Magang era\\Project 1\\Training and Test\\Dataset\\intent_hamil.csv\")\n",
    "file2 = Path(r\"C:\\Users\\farre\\Documents\\Kuliah\\Magang era\\Project 1\\Training and Test\\Dataset\\inten_umum.csv\")\n",
    "out_file = file1.parent / \"intent_merged.csv\"\n",
    "\n",
    "try:\n",
    "    df1 = pd.read_csv(file1)\n",
    "    df2 = pd.read_csv(file2)\n",
    "except Exception as e:\n",
    "    raise SystemExit(f\"Error reading files: {e}\")\n",
    "\n",
    "# Set intent labels based on source file\n",
    "df1['intent'] = 'KEHAMILAN'\n",
    "df2['intent'] = 'UMUM'\n",
    "\n",
    "merged = pd.concat([df1, df2], ignore_index=True)\n",
    "\n",
    "# Optional: remove exact duplicate rows\n",
    "merged = merged.drop_duplicates().reset_index(drop=True)\n",
    "\n",
    "merged.to_csv(out_file, index=False)\n",
    "print(f\"Merged {len(df1)} + {len(df2)} -> {len(merged)} rows. Saved to: {out_file}\")"
   ]
  },
  {
   "cell_type": "code",
   "execution_count": null,
   "id": "5834ebef",
   "metadata": {},
   "outputs": [],
   "source": []
  }
 ],
 "metadata": {
  "kernelspec": {
   "display_name": "base",
   "language": "python",
   "name": "python3"
  },
  "language_info": {
   "codemirror_mode": {
    "name": "ipython",
    "version": 3
   },
   "file_extension": ".py",
   "mimetype": "text/x-python",
   "name": "python",
   "nbconvert_exporter": "python",
   "pygments_lexer": "ipython3",
   "version": "3.12.7"
  }
 },
 "nbformat": 4,
 "nbformat_minor": 5
}
